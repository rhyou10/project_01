{
 "cells": [
  {
   "cell_type": "code",
   "execution_count": null,
   "source": [],
   "outputs": [],
   "metadata": {}
  },
  {
   "cell_type": "code",
   "execution_count": 1,
   "source": [
    "import requests\r\n",
    "from urllib.parse import quote\r\n",
    "import urllib\r\n",
    "import json\r\n",
    "\r\n",
    "serviceKey = \"sxc4j748B0TCZcVGcGU0VCeyrFEJHwi88K9PUah76z13SLo2PB1eKWsZENSRPqKbHhbFgcp0Ft1owgxB66oqmw%3D%3D\"\r\n",
    "numOfRows = 10\r\n",
    "startCreateDt = 20160410\r\n",
    "endCreateDt = 20200410"
   ],
   "outputs": [],
   "metadata": {}
  },
  {
   "cell_type": "code",
   "execution_count": 2,
   "source": [
    "url_api = 'http://openapi.data.go.kr/openapi/service/rest/Covid19/getCovid19SidoInfStateJson'\r\n",
    "option = f\"serviceKey={serviceKey}&pageNo=1&numOfRows=10&startCreateDt=20180409&endCreateDt=20200410\""
   ],
   "outputs": [],
   "metadata": {}
  },
  {
   "cell_type": "code",
   "execution_count": 3,
   "source": [
    "url = f'{url_api}?{option}&dataType=JSON' # & 붙인다"
   ],
   "outputs": [],
   "metadata": {}
  },
  {
   "cell_type": "code",
   "execution_count": 4,
   "source": [
    "url"
   ],
   "outputs": [
    {
     "output_type": "execute_result",
     "data": {
      "text/plain": [
       "'http://openapi.data.go.kr/openapi/service/rest/Covid19/getCovid19SidoInfStateJson?serviceKey=sxc4j748B0TCZcVGcGU0VCeyrFEJHwi88K9PUah76z13SLo2PB1eKWsZENSRPqKbHhbFgcp0Ft1owgxB66oqmw%3D%3D&pageNo=1&numOfRows=10&startCreateDt=20180409&endCreateDt=20200410&dataType=JSON'"
      ]
     },
     "metadata": {},
     "execution_count": 4
    }
   ],
   "metadata": {}
  },
  {
   "cell_type": "code",
   "execution_count": 5,
   "source": [
    "# result = requests.get(url).json() json의 경우 이렇게 하면 된다"
   ],
   "outputs": [],
   "metadata": {}
  },
  {
   "cell_type": "code",
   "execution_count": 6,
   "source": [
    "result = requests.get(url)"
   ],
   "outputs": [],
   "metadata": {}
  },
  {
   "cell_type": "code",
   "execution_count": 7,
   "source": [
    "import xmltodict\r\n",
    "xmlString = result.text\r\n",
    "jsonString = json.dumps(xmltodict.parse(xmlString), indent=4)"
   ],
   "outputs": [],
   "metadata": {}
  },
  {
   "cell_type": "code",
   "execution_count": 8,
   "source": [
    "x =eval(jsonString.replace('\\n',''))"
   ],
   "outputs": [],
   "metadata": {}
  },
  {
   "cell_type": "code",
   "execution_count": 11,
   "source": [
    "import pandas as pd\r\n",
    "df = pd.DataFrame(x['response']['body']['items']['item'])"
   ],
   "outputs": [],
   "metadata": {}
  },
  {
   "cell_type": "code",
   "execution_count": 10,
   "source": [
    "#response = urllib.request.urlopen(url)\r\n",
    "#rescode = response.getcode()\r\n",
    "#response.read"
   ],
   "outputs": [],
   "metadata": {}
  },
  {
   "cell_type": "code",
   "execution_count": 12,
   "source": [
    "df.to_csv('코로나정보.csv', index=False)"
   ],
   "outputs": [],
   "metadata": {}
  },
  {
   "cell_type": "code",
   "execution_count": null,
   "source": [],
   "outputs": [],
   "metadata": {}
  }
 ],
 "metadata": {
  "orig_nbformat": 4,
  "language_info": {
   "name": "python",
   "version": "3.8.11",
   "mimetype": "text/x-python",
   "codemirror_mode": {
    "name": "ipython",
    "version": 3
   },
   "pygments_lexer": "ipython3",
   "nbconvert_exporter": "python",
   "file_extension": ".py"
  },
  "kernelspec": {
   "name": "python3",
   "display_name": "Python 3.8.11 64-bit ('base': conda)"
  },
  "interpreter": {
   "hash": "b3ba2566441a7c06988d0923437866b63cedc61552a5af99d1f4fb67d367b25f"
  }
 },
 "nbformat": 4,
 "nbformat_minor": 2
}